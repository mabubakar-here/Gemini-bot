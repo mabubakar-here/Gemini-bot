{
  "nbformat": 4,
  "nbformat_minor": 0,
  "metadata": {
    "colab": {
      "provenance": [],
      "gpuType": "T4",
      "authorship_tag": "ABX9TyPsjBPmxO7xgBYsBcyC1hFt",
      "include_colab_link": true
    },
    "kernelspec": {
      "name": "python3",
      "display_name": "Python 3"
    },
    "language_info": {
      "name": "python"
    },
    "accelerator": "GPU"
  },
  "cells": [
    {
      "cell_type": "markdown",
      "metadata": {
        "id": "view-in-github",
        "colab_type": "text"
      },
      "source": [
        "<a href=\"https://colab.research.google.com/github/mabubakar-here/Gemini-bot/blob/main/Week4.ipynb\" target=\"_parent\"><img src=\"https://colab.research.google.com/assets/colab-badge.svg\" alt=\"Open In Colab\"/></a>"
      ]
    },
    {
      "cell_type": "code",
      "execution_count": 1,
      "metadata": {
        "colab": {
          "base_uri": "https://localhost:8080/"
        },
        "id": "EBLh4jQHAsNM",
        "outputId": "1977a105-0526-47cb-f7d3-0b61d57dc551"
      },
      "outputs": [
        {
          "output_type": "stream",
          "name": "stdout",
          "text": [
            "2.6.0+cu124\n"
          ]
        }
      ],
      "source": [
        "import torch\n",
        "import pandas as pd\n",
        "import numpy as np\n",
        "import matplotlib.pyplot as plt\n",
        "print(torch.__version__)"
      ]
    },
    {
      "cell_type": "markdown",
      "source": [
        "## Introduction to Tensor\n",
        "\n",
        "### creating tensor\n"
      ],
      "metadata": {
        "id": "7D5uUqPDEX4r"
      }
    },
    {
      "cell_type": "code",
      "source": [
        "#scalar\n",
        "\n",
        "scalar = torch.tensor(7)\n",
        "scalar"
      ],
      "metadata": {
        "colab": {
          "base_uri": "https://localhost:8080/"
        },
        "id": "1S18FTSjER3I",
        "outputId": "9f39e081-51b1-4083-9394-b8b92212b6c6"
      },
      "execution_count": 2,
      "outputs": [
        {
          "output_type": "execute_result",
          "data": {
            "text/plain": [
              "tensor(7)"
            ]
          },
          "metadata": {},
          "execution_count": 2
        }
      ]
    },
    {
      "cell_type": "code",
      "source": [
        "scalar.ndim"
      ],
      "metadata": {
        "colab": {
          "base_uri": "https://localhost:8080/"
        },
        "id": "D-mPr4YUEubT",
        "outputId": "76effe9d-7b7b-4955-c149-680116bc410f"
      },
      "execution_count": 3,
      "outputs": [
        {
          "output_type": "execute_result",
          "data": {
            "text/plain": [
              "0"
            ]
          },
          "metadata": {},
          "execution_count": 3
        }
      ]
    },
    {
      "cell_type": "code",
      "source": [
        "# Get tensor back as Python init\n",
        "scalar.item()"
      ],
      "metadata": {
        "colab": {
          "base_uri": "https://localhost:8080/"
        },
        "id": "0LhBHiM2ISAj",
        "outputId": "ef6ba53c-c6fb-440b-bf54-8bd4aaeda786"
      },
      "execution_count": 4,
      "outputs": [
        {
          "output_type": "execute_result",
          "data": {
            "text/plain": [
              "7"
            ]
          },
          "metadata": {},
          "execution_count": 4
        }
      ]
    },
    {
      "cell_type": "code",
      "source": [
        "# vector\n",
        "vector = torch.tensor([7, 7])\n",
        "vector"
      ],
      "metadata": {
        "colab": {
          "base_uri": "https://localhost:8080/"
        },
        "id": "M7P_IUx9K8dA",
        "outputId": "c11dfd7a-e6f9-4e15-c7d2-0513e55b3841"
      },
      "execution_count": 5,
      "outputs": [
        {
          "output_type": "execute_result",
          "data": {
            "text/plain": [
              "tensor([7, 7])"
            ]
          },
          "metadata": {},
          "execution_count": 5
        }
      ]
    },
    {
      "cell_type": "code",
      "source": [
        "vector.ndim"
      ],
      "metadata": {
        "id": "l3QtrwX4LTAg",
        "colab": {
          "base_uri": "https://localhost:8080/"
        },
        "outputId": "236fa372-5e7f-4a3f-bf26-cc9083cf1d21"
      },
      "execution_count": 6,
      "outputs": [
        {
          "output_type": "execute_result",
          "data": {
            "text/plain": [
              "1"
            ]
          },
          "metadata": {},
          "execution_count": 6
        }
      ]
    },
    {
      "cell_type": "code",
      "source": [
        "vector.shape"
      ],
      "metadata": {
        "colab": {
          "base_uri": "https://localhost:8080/"
        },
        "id": "9xUGllIPiN4i",
        "outputId": "8d9fb4d2-cf07-4173-a1fa-83ab82232794"
      },
      "execution_count": 7,
      "outputs": [
        {
          "output_type": "execute_result",
          "data": {
            "text/plain": [
              "torch.Size([2])"
            ]
          },
          "metadata": {},
          "execution_count": 7
        }
      ]
    },
    {
      "cell_type": "code",
      "source": [
        "#MATRIX\n",
        "MATRIX = torch.tensor([[7, 8],\n",
        "                      [9, 10]])\n",
        "MATRIX"
      ],
      "metadata": {
        "colab": {
          "base_uri": "https://localhost:8080/"
        },
        "id": "ffbgt4q8ibEx",
        "outputId": "b54173ba-7347-41a4-f8b3-9548916b0f06"
      },
      "execution_count": 8,
      "outputs": [
        {
          "output_type": "execute_result",
          "data": {
            "text/plain": [
              "tensor([[ 7,  8],\n",
              "        [ 9, 10]])"
            ]
          },
          "metadata": {},
          "execution_count": 8
        }
      ]
    },
    {
      "cell_type": "code",
      "source": [
        "MATRIX.ndim"
      ],
      "metadata": {
        "colab": {
          "base_uri": "https://localhost:8080/"
        },
        "id": "54-Ry0yqjEPk",
        "outputId": "91650403-ea46-40ee-e629-6a7513fc5910"
      },
      "execution_count": 9,
      "outputs": [
        {
          "output_type": "execute_result",
          "data": {
            "text/plain": [
              "2"
            ]
          },
          "metadata": {},
          "execution_count": 9
        }
      ]
    },
    {
      "cell_type": "code",
      "source": [
        "MATRIX[1]"
      ],
      "metadata": {
        "colab": {
          "base_uri": "https://localhost:8080/"
        },
        "id": "ir4i42KzjX9Q",
        "outputId": "28072694-ea6d-4f8e-8be4-898496711fa4"
      },
      "execution_count": 10,
      "outputs": [
        {
          "output_type": "execute_result",
          "data": {
            "text/plain": [
              "tensor([ 9, 10])"
            ]
          },
          "metadata": {},
          "execution_count": 10
        }
      ]
    },
    {
      "cell_type": "code",
      "source": [
        "MATRIX.shape"
      ],
      "metadata": {
        "colab": {
          "base_uri": "https://localhost:8080/"
        },
        "id": "UKU2Tb5NjhJY",
        "outputId": "6e5940bc-8c03-4d9f-b7e4-1c67fc6c7019"
      },
      "execution_count": 11,
      "outputs": [
        {
          "output_type": "execute_result",
          "data": {
            "text/plain": [
              "torch.Size([2, 2])"
            ]
          },
          "metadata": {},
          "execution_count": 11
        }
      ]
    },
    {
      "cell_type": "code",
      "source": [
        "# TENSOR\n",
        "TENSOR = torch.tensor ([[[1, 2, 3],\n",
        "                         [4, 5, 6],\n",
        "                         [7, 8, 9]]])\n",
        "TENSOR"
      ],
      "metadata": {
        "id": "_2ZnOE4GjndR",
        "colab": {
          "base_uri": "https://localhost:8080/"
        },
        "outputId": "b98dd63e-b214-4a6d-a8c4-38431fe1e00d"
      },
      "execution_count": 12,
      "outputs": [
        {
          "output_type": "execute_result",
          "data": {
            "text/plain": [
              "tensor([[[1, 2, 3],\n",
              "         [4, 5, 6],\n",
              "         [7, 8, 9]]])"
            ]
          },
          "metadata": {},
          "execution_count": 12
        }
      ]
    },
    {
      "cell_type": "code",
      "source": [
        "TENSOR.ndim"
      ],
      "metadata": {
        "id": "pEemn2RykiKA",
        "colab": {
          "base_uri": "https://localhost:8080/"
        },
        "outputId": "e588751e-1598-4355-e822-fdf78df5787c"
      },
      "execution_count": 13,
      "outputs": [
        {
          "output_type": "execute_result",
          "data": {
            "text/plain": [
              "3"
            ]
          },
          "metadata": {},
          "execution_count": 13
        }
      ]
    },
    {
      "cell_type": "code",
      "source": [
        "TENSOR.shape"
      ],
      "metadata": {
        "colab": {
          "base_uri": "https://localhost:8080/"
        },
        "id": "NG7PrEMrpboW",
        "outputId": "6f391304-0cbb-44a1-dfc1-f0c631f4da65"
      },
      "execution_count": 14,
      "outputs": [
        {
          "output_type": "execute_result",
          "data": {
            "text/plain": [
              "torch.Size([1, 3, 3])"
            ]
          },
          "metadata": {},
          "execution_count": 14
        }
      ]
    },
    {
      "cell_type": "markdown",
      "source": [
        "### Random Tensors\n",
        "why random tensors?\n",
        "Random tensors are important because the way many neural networks learn is that they start with tensors full of random numbers and thn adjust those numbers to better represent the data.\n",
        "\n",
        "'start with random number -> look at data -> update random numbers -> look at data -> update random numbers'"
      ],
      "metadata": {
        "id": "z8Gj3Q9O28W8"
      }
    },
    {
      "cell_type": "code",
      "source": [
        "# Create random tensor  of size (3, 4)\n",
        "random_tensor = torch.rand(3, 4)\n",
        "random_tensor"
      ],
      "metadata": {
        "id": "-xpeU84J43oM",
        "colab": {
          "base_uri": "https://localhost:8080/"
        },
        "outputId": "1a4cea8e-4bc5-4632-8897-3eda688bdca5"
      },
      "execution_count": 15,
      "outputs": [
        {
          "output_type": "execute_result",
          "data": {
            "text/plain": [
              "tensor([[0.8398, 0.3919, 0.9946, 0.5501],\n",
              "        [0.6075, 0.4428, 0.2132, 0.7267],\n",
              "        [0.8167, 0.7808, 0.6524, 0.0320]])"
            ]
          },
          "metadata": {},
          "execution_count": 15
        }
      ]
    },
    {
      "cell_type": "code",
      "source": [
        "random_tensor.ndim"
      ],
      "metadata": {
        "id": "aSzlw9jZ5EvY",
        "colab": {
          "base_uri": "https://localhost:8080/"
        },
        "outputId": "7ef739e4-d9ff-4c40-cd9d-5f8183a30fe1"
      },
      "execution_count": 16,
      "outputs": [
        {
          "output_type": "execute_result",
          "data": {
            "text/plain": [
              "2"
            ]
          },
          "metadata": {},
          "execution_count": 16
        }
      ]
    },
    {
      "cell_type": "code",
      "source": [
        "# Create a random tensor with the size of an image\n",
        "random_image_size_tensor = torch.rand(3, 224, 224) # height, width, color channel\n",
        "random_image_size_tensor.shape, random_image_size_tensor.ndim"
      ],
      "metadata": {
        "colab": {
          "base_uri": "https://localhost:8080/"
        },
        "id": "DbF8rEva_Poc",
        "outputId": "f7f6750e-008f-49b5-93e1-41b5cc96af1c"
      },
      "execution_count": 17,
      "outputs": [
        {
          "output_type": "execute_result",
          "data": {
            "text/plain": [
              "(torch.Size([3, 224, 224]), 3)"
            ]
          },
          "metadata": {},
          "execution_count": 17
        }
      ]
    },
    {
      "cell_type": "markdown",
      "source": [
        "### Ranom Tensors with zeros and ones"
      ],
      "metadata": {
        "id": "G0rgXykdCPU0"
      }
    },
    {
      "cell_type": "code",
      "source": [
        "# Creating tensor with all zeros\n",
        "zeros = torch.zeros(3, 4)\n",
        "zeros"
      ],
      "metadata": {
        "colab": {
          "base_uri": "https://localhost:8080/"
        },
        "id": "FYn-RoEICV2G",
        "outputId": "0c11e073-9a84-4bf8-a458-02d06d9e8ab8"
      },
      "execution_count": 18,
      "outputs": [
        {
          "output_type": "execute_result",
          "data": {
            "text/plain": [
              "tensor([[0., 0., 0., 0.],\n",
              "        [0., 0., 0., 0.],\n",
              "        [0., 0., 0., 0.]])"
            ]
          },
          "metadata": {},
          "execution_count": 18
        }
      ]
    },
    {
      "cell_type": "code",
      "source": [
        "zeros*random_tensor"
      ],
      "metadata": {
        "colab": {
          "base_uri": "https://localhost:8080/"
        },
        "id": "yF_xXB66CmyZ",
        "outputId": "29bfdb93-f343-4e6a-91f7-408629ca8a27"
      },
      "execution_count": 19,
      "outputs": [
        {
          "output_type": "execute_result",
          "data": {
            "text/plain": [
              "tensor([[0., 0., 0., 0.],\n",
              "        [0., 0., 0., 0.],\n",
              "        [0., 0., 0., 0.]])"
            ]
          },
          "metadata": {},
          "execution_count": 19
        }
      ]
    },
    {
      "cell_type": "code",
      "source": [
        "# Creating tensors of all ones\n",
        "\n",
        "ones = torch.ones(3, 4)\n",
        "ones"
      ],
      "metadata": {
        "colab": {
          "base_uri": "https://localhost:8080/"
        },
        "id": "apfOyFzEC4lk",
        "outputId": "3f94110b-9601-4e6a-f183-8c9b85c95449"
      },
      "execution_count": 20,
      "outputs": [
        {
          "output_type": "execute_result",
          "data": {
            "text/plain": [
              "tensor([[1., 1., 1., 1.],\n",
              "        [1., 1., 1., 1.],\n",
              "        [1., 1., 1., 1.]])"
            ]
          },
          "metadata": {},
          "execution_count": 20
        }
      ]
    },
    {
      "cell_type": "code",
      "source": [
        "ones.dtype\n"
      ],
      "metadata": {
        "colab": {
          "base_uri": "https://localhost:8080/"
        },
        "id": "1-YkALQsC7Mm",
        "outputId": "714bddd1-d2b9-4f5e-eac9-30bdbf87d958"
      },
      "execution_count": 21,
      "outputs": [
        {
          "output_type": "execute_result",
          "data": {
            "text/plain": [
              "torch.float32"
            ]
          },
          "metadata": {},
          "execution_count": 21
        }
      ]
    },
    {
      "cell_type": "markdown",
      "source": [
        "### Creating Range of Tensors and Tensors-like"
      ],
      "metadata": {
        "id": "HWYAOWv8ET7r"
      }
    },
    {
      "cell_type": "code",
      "source": [
        "one_to_ten = torch.arange(start= 0, end= 1000, step= 77)\n",
        "one_to_ten"
      ],
      "metadata": {
        "colab": {
          "base_uri": "https://localhost:8080/"
        },
        "id": "NvFC9DIiESQ0",
        "outputId": "ab63a5e9-ba89-4511-ee1a-eed02049c7a7"
      },
      "execution_count": 22,
      "outputs": [
        {
          "output_type": "execute_result",
          "data": {
            "text/plain": [
              "tensor([  0,  77, 154, 231, 308, 385, 462, 539, 616, 693, 770, 847, 924])"
            ]
          },
          "metadata": {},
          "execution_count": 22
        }
      ]
    },
    {
      "cell_type": "code",
      "source": [
        "torch_like = torch.zeros_like(input= one_to_ten)\n",
        "torch_like"
      ],
      "metadata": {
        "colab": {
          "base_uri": "https://localhost:8080/"
        },
        "id": "HQM_6F7-G4wU",
        "outputId": "001d6b68-acbd-4592-dc98-20f167f83396"
      },
      "execution_count": 23,
      "outputs": [
        {
          "output_type": "execute_result",
          "data": {
            "text/plain": [
              "tensor([0, 0, 0, 0, 0, 0, 0, 0, 0, 0, 0, 0, 0])"
            ]
          },
          "metadata": {},
          "execution_count": 23
        }
      ]
    },
    {
      "cell_type": "markdown",
      "source": [
        "**Note:** Tensor datatye is one of the 3 big errors you'll run into with Pytorch and deep learning\n",
        "1. Tensors not right datatype\n",
        "2. Tensors not on the right shape\n",
        "3. Tensors not on the right device"
      ],
      "metadata": {
        "id": "FoMP538VK97s"
      }
    },
    {
      "cell_type": "code",
      "source": [
        "# float 32 tensor\n",
        "float_32_tensor = torch.tensor([3.0, 6.0, 9.0] ,\n",
        "                               dtype = None, # what datatype is the tensor (e.g float32, float)\n",
        "                               device = None, # On what device the tensor is (i.e cpu, gpu)\n",
        "                               requires_grad= False) # wether to track gradient or not\n",
        "float_32_tensor"
      ],
      "metadata": {
        "colab": {
          "base_uri": "https://localhost:8080/"
        },
        "id": "bKwGvhsTIq25",
        "outputId": "3863b880-0d33-47f9-bde6-c769e1564063"
      },
      "execution_count": 24,
      "outputs": [
        {
          "output_type": "execute_result",
          "data": {
            "text/plain": [
              "tensor([3., 6., 9.])"
            ]
          },
          "metadata": {},
          "execution_count": 24
        }
      ]
    },
    {
      "cell_type": "code",
      "source": [
        "float_32_tensor.dtype"
      ],
      "metadata": {
        "colab": {
          "base_uri": "https://localhost:8080/"
        },
        "id": "A04gaQugJIVZ",
        "outputId": "b6464c75-8169-4095-dd6a-d2baf6dc100b"
      },
      "execution_count": 25,
      "outputs": [
        {
          "output_type": "execute_result",
          "data": {
            "text/plain": [
              "torch.float32"
            ]
          },
          "metadata": {},
          "execution_count": 25
        }
      ]
    },
    {
      "cell_type": "code",
      "source": [
        "float_16_tensor = float_32_tensor.type(torch.float16)\n",
        "float_16_tensor"
      ],
      "metadata": {
        "colab": {
          "base_uri": "https://localhost:8080/"
        },
        "id": "z9-qqub5Nm6X",
        "outputId": "a1232431-fba6-45f4-dfaa-582286081097"
      },
      "execution_count": 26,
      "outputs": [
        {
          "output_type": "execute_result",
          "data": {
            "text/plain": [
              "tensor([3., 6., 9.], dtype=torch.float16)"
            ]
          },
          "metadata": {},
          "execution_count": 26
        }
      ]
    },
    {
      "cell_type": "markdown",
      "source": [
        "### Getting Information from the tensor\n",
        "\n",
        "1. Tensors not right datatype - to get datatype from a tensor, can use `tensor.dtype`\n",
        "2. Tensors not on the right shape - to get shape from a tensor, can use `tensor.shape`\n",
        "3. Tensors not on the right device - to get device from a tensor, can use `tensor.device`\n",
        "\n"
      ],
      "metadata": {
        "id": "iROvim4H0qty"
      }
    },
    {
      "cell_type": "code",
      "source": [
        "# Creating a tensor\n",
        "some_tensor = torch.rand(3,4)\n",
        "some_tensor"
      ],
      "metadata": {
        "colab": {
          "base_uri": "https://localhost:8080/"
        },
        "id": "SgVcDj7O0skK",
        "outputId": "b77c43b9-3f47-4232-f60a-92b7dae6db77"
      },
      "execution_count": 27,
      "outputs": [
        {
          "output_type": "execute_result",
          "data": {
            "text/plain": [
              "tensor([[0.9234, 0.8316, 0.8140, 0.1870],\n",
              "        [0.4694, 0.6621, 0.8562, 0.9037],\n",
              "        [0.9140, 0.4154, 0.9315, 0.1680]])"
            ]
          },
          "metadata": {},
          "execution_count": 27
        }
      ]
    },
    {
      "cell_type": "code",
      "source": [
        "# find out details about rendom tensor\n",
        "print(\"some_tenosr\")\n",
        "print(f\"Datatype of tensor: {some_tensor.dtype}\")\n",
        "print(f\"shape of a tensor: {some_tensor.shape}\")\n",
        "print(f\"dveice of a tensor: {some_tensor.device}\")"
      ],
      "metadata": {
        "colab": {
          "base_uri": "https://localhost:8080/"
        },
        "id": "PQgKpiqV2VSq",
        "outputId": "5fb81537-dc12-4eb1-ef3d-3da3aac61c03"
      },
      "execution_count": 28,
      "outputs": [
        {
          "output_type": "stream",
          "name": "stdout",
          "text": [
            "some_tenosr\n",
            "Datatype of tensor: torch.float32\n",
            "shape of a tensor: torch.Size([3, 4])\n",
            "dveice of a tensor: cpu\n"
          ]
        }
      ]
    },
    {
      "cell_type": "markdown",
      "source": [
        "###Manuplating Tensor\n",
        "\n",
        "Thensor operation include\n",
        "1. Addition\n",
        "2. Subtraction\n",
        "3. Multiplication (element wise)\n",
        "4. Division\n",
        "5. Matrix Multiplication"
      ],
      "metadata": {
        "id": "0pOg1IWr7N0h"
      }
    },
    {
      "cell_type": "code",
      "source": [
        " # Creating a tensor and adding a tensor\n",
        " tensor = torch.tensor([1, 2, 3])\n",
        " tensor + 10"
      ],
      "metadata": {
        "colab": {
          "base_uri": "https://localhost:8080/"
        },
        "id": "HT0sB0Lx9bvi",
        "outputId": "3c428eab-9199-4cba-e6dc-62f0fc73bf29"
      },
      "execution_count": 29,
      "outputs": [
        {
          "output_type": "execute_result",
          "data": {
            "text/plain": [
              "tensor([11, 12, 13])"
            ]
          },
          "metadata": {},
          "execution_count": 29
        }
      ]
    },
    {
      "cell_type": "code",
      "source": [
        "# Multiplying a tensor\n",
        "tensor * 10"
      ],
      "metadata": {
        "colab": {
          "base_uri": "https://localhost:8080/"
        },
        "id": "WuUeeny8AHrb",
        "outputId": "8fdf5092-8525-4565-a592-832c90136c55"
      },
      "execution_count": 30,
      "outputs": [
        {
          "output_type": "execute_result",
          "data": {
            "text/plain": [
              "tensor([10, 20, 30])"
            ]
          },
          "metadata": {},
          "execution_count": 30
        }
      ]
    },
    {
      "cell_type": "code",
      "source": [
        "tensor - 10"
      ],
      "metadata": {
        "colab": {
          "base_uri": "https://localhost:8080/"
        },
        "id": "-04f373vAdiY",
        "outputId": "6361e5a0-5cc2-4f94-c9f2-97bc9996889a"
      },
      "execution_count": 31,
      "outputs": [
        {
          "output_type": "execute_result",
          "data": {
            "text/plain": [
              "tensor([-9, -8, -7])"
            ]
          },
          "metadata": {},
          "execution_count": 31
        }
      ]
    },
    {
      "cell_type": "code",
      "source": [
        "tensor / 10"
      ],
      "metadata": {
        "colab": {
          "base_uri": "https://localhost:8080/"
        },
        "id": "RzT2c25-A2uL",
        "outputId": "bd9dfb1b-2da7-4007-fbf6-08cc02db785b"
      },
      "execution_count": 32,
      "outputs": [
        {
          "output_type": "execute_result",
          "data": {
            "text/plain": [
              "tensor([0.1000, 0.2000, 0.3000])"
            ]
          },
          "metadata": {},
          "execution_count": 32
        }
      ]
    },
    {
      "cell_type": "code",
      "source": [
        "# Try out tensor in-built fuctions\n",
        "torch.mul(tensor, 10)"
      ],
      "metadata": {
        "colab": {
          "base_uri": "https://localhost:8080/"
        },
        "id": "i3Wfy767A6py",
        "outputId": "fad2104e-7a32-46f8-a483-400518771f2b"
      },
      "execution_count": 33,
      "outputs": [
        {
          "output_type": "execute_result",
          "data": {
            "text/plain": [
              "tensor([10, 20, 30])"
            ]
          },
          "metadata": {},
          "execution_count": 33
        }
      ]
    },
    {
      "cell_type": "markdown",
      "source": [
        "### Matrix multiplication\n",
        "\n",
        "Two main ways to perform multiplication in neural netwrok and deep learning\n",
        " 1). Element wise multiplication\n",
        " 2). Matrix Multiplication (dot product)\n"
      ],
      "metadata": {
        "id": "N2g45JWJClVj"
      }
    },
    {
      "cell_type": "code",
      "source": [
        "#Element wise multiplication\n",
        "print ( tensor, \"*\", tensor)\n",
        "print(tensor*tensor)"
      ],
      "metadata": {
        "colab": {
          "base_uri": "https://localhost:8080/"
        },
        "id": "DtmUJw5XEUsX",
        "outputId": "afdff4cd-2b2e-480c-d314-3f828ba3cff8"
      },
      "execution_count": 34,
      "outputs": [
        {
          "output_type": "stream",
          "name": "stdout",
          "text": [
            "tensor([1, 2, 3]) * tensor([1, 2, 3])\n",
            "tensor([1, 4, 9])\n"
          ]
        }
      ]
    },
    {
      "cell_type": "code",
      "source": [
        "# Matrix multiplication\n",
        "torch.matmul( tensor, tensor)"
      ],
      "metadata": {
        "colab": {
          "base_uri": "https://localhost:8080/"
        },
        "id": "pwXolOCCEkAa",
        "outputId": "588c57eb-5bf6-4bc3-98f2-b66276f3ff54"
      },
      "execution_count": 35,
      "outputs": [
        {
          "output_type": "execute_result",
          "data": {
            "text/plain": [
              "tensor(14)"
            ]
          },
          "metadata": {},
          "execution_count": 35
        }
      ]
    },
    {
      "cell_type": "markdown",
      "source": [
        "### Shapes for matarix multiplication"
      ],
      "metadata": {
        "id": "PAb_QwD-0xZ4"
      }
    },
    {
      "cell_type": "markdown",
      "source": [
        "To fix our shape issue, we can manuplate  the shape of one of our tensors using **transpose**\n",
        "\n",
        "A **transpose** switched the axes or dimensions of given tensor"
      ],
      "metadata": {
        "id": "xmX3QQ4T7iAu"
      }
    },
    {
      "cell_type": "code",
      "source": [
        "tensor_A = torch.tensor([[4, 6],\n",
        "                        [4, 5],\n",
        "                        [2, 6]])\n",
        "\n",
        "tensor_B = torch. tensor([[3, 5],\n",
        "                          [5, 6],\n",
        "                          [2, 7]])\n",
        "\n",
        "torch.matmul(tensor_A, tensor_B.T)"
      ],
      "metadata": {
        "colab": {
          "base_uri": "https://localhost:8080/"
        },
        "id": "6it4kXRD01UI",
        "outputId": "c3e34737-c142-4b75-8160-5fcbb7688d6c"
      },
      "execution_count": 36,
      "outputs": [
        {
          "output_type": "execute_result",
          "data": {
            "text/plain": [
              "tensor([[42, 56, 50],\n",
              "        [37, 50, 43],\n",
              "        [36, 46, 46]])"
            ]
          },
          "metadata": {},
          "execution_count": 36
        }
      ]
    },
    {
      "cell_type": "markdown",
      "source": [
        "Finding the min, max, mean, sum etc (tensor aggereation)"
      ],
      "metadata": {
        "id": "jnoIUd8C_tg1"
      }
    },
    {
      "cell_type": "code",
      "source": [
        "#Create a tensor\n",
        "x = torch.arange(1, 100, 10)\n",
        "x"
      ],
      "metadata": {
        "colab": {
          "base_uri": "https://localhost:8080/"
        },
        "id": "pQWdYAD-_4qj",
        "outputId": "6546d12c-c03a-4e41-a35c-683e85dc5acf"
      },
      "execution_count": 37,
      "outputs": [
        {
          "output_type": "execute_result",
          "data": {
            "text/plain": [
              "tensor([ 1, 11, 21, 31, 41, 51, 61, 71, 81, 91])"
            ]
          },
          "metadata": {},
          "execution_count": 37
        }
      ]
    },
    {
      "cell_type": "code",
      "source": [
        "#Finding the min\n",
        "torch.min(x), x.min()\n"
      ],
      "metadata": {
        "colab": {
          "base_uri": "https://localhost:8080/"
        },
        "id": "4wc22JzIAYU6",
        "outputId": "be17e565-158f-45a1-e441-286d4d3339e0"
      },
      "execution_count": 38,
      "outputs": [
        {
          "output_type": "execute_result",
          "data": {
            "text/plain": [
              "(tensor(1), tensor(1))"
            ]
          },
          "metadata": {},
          "execution_count": 38
        }
      ]
    },
    {
      "cell_type": "code",
      "source": [
        "torch.max(x), x.max()"
      ],
      "metadata": {
        "colab": {
          "base_uri": "https://localhost:8080/"
        },
        "id": "cgzy2LVhAwHr",
        "outputId": "0a38861e-01fc-454c-d2f2-bc2b8683debf"
      },
      "execution_count": 39,
      "outputs": [
        {
          "output_type": "execute_result",
          "data": {
            "text/plain": [
              "(tensor(91), tensor(91))"
            ]
          },
          "metadata": {},
          "execution_count": 39
        }
      ]
    },
    {
      "cell_type": "code",
      "source": [
        "#Finding the mean - note: torch.mean funcion requires a tensor of float32 datatype to work\n",
        "torch.mean(x.type(torch.float32)), x.type(torch.float32).mean()"
      ],
      "metadata": {
        "colab": {
          "base_uri": "https://localhost:8080/"
        },
        "id": "XiUJZ2CIA79m",
        "outputId": "5bab6ae1-5caa-4b44-ab84-56817b1e3e15"
      },
      "execution_count": 40,
      "outputs": [
        {
          "output_type": "execute_result",
          "data": {
            "text/plain": [
              "(tensor(46.), tensor(46.))"
            ]
          },
          "metadata": {},
          "execution_count": 40
        }
      ]
    },
    {
      "cell_type": "code",
      "source": [
        "# Finding the sum\n",
        "torch.sum(x), x.sum()"
      ],
      "metadata": {
        "colab": {
          "base_uri": "https://localhost:8080/"
        },
        "id": "-gZwOEcREjzp",
        "outputId": "53bfc4c4-50b2-4a68-849d-abe5c443000b"
      },
      "execution_count": 41,
      "outputs": [
        {
          "output_type": "execute_result",
          "data": {
            "text/plain": [
              "(tensor(460), tensor(460))"
            ]
          },
          "metadata": {},
          "execution_count": 41
        }
      ]
    },
    {
      "cell_type": "markdown",
      "source": [
        "###Finding the positional min & max\n"
      ],
      "metadata": {
        "id": "pWHpXxzVFa37"
      }
    },
    {
      "cell_type": "code",
      "source": [
        "### Find the position in the tensor that has the minimum value with argmin()-> return index position of target tensor where minimum value occurs\n",
        "x.argmin()"
      ],
      "metadata": {
        "colab": {
          "base_uri": "https://localhost:8080/"
        },
        "id": "Vz81RacBFlQs",
        "outputId": "68df2d78-ad84-4f8a-bf3e-9218aaf0a082"
      },
      "execution_count": 42,
      "outputs": [
        {
          "output_type": "execute_result",
          "data": {
            "text/plain": [
              "tensor(0)"
            ]
          },
          "metadata": {},
          "execution_count": 42
        }
      ]
    },
    {
      "cell_type": "code",
      "source": [
        "x[0]"
      ],
      "metadata": {
        "colab": {
          "base_uri": "https://localhost:8080/"
        },
        "id": "WksnMTkVRmtq",
        "outputId": "be95e493-47fd-4c90-ffc8-6bf9575afecd"
      },
      "execution_count": 43,
      "outputs": [
        {
          "output_type": "execute_result",
          "data": {
            "text/plain": [
              "tensor(1)"
            ]
          },
          "metadata": {},
          "execution_count": 43
        }
      ]
    },
    {
      "cell_type": "code",
      "source": [
        "x.argmax()"
      ],
      "metadata": {
        "id": "D0Lmf-vYSXaM",
        "outputId": "e8a3c70c-0d69-4f14-8ba7-7bcc1c5ad3e2",
        "colab": {
          "base_uri": "https://localhost:8080/"
        }
      },
      "execution_count": 44,
      "outputs": [
        {
          "output_type": "execute_result",
          "data": {
            "text/plain": [
              "tensor(9)"
            ]
          },
          "metadata": {},
          "execution_count": 44
        }
      ]
    },
    {
      "cell_type": "code",
      "source": [
        "x[9]"
      ],
      "metadata": {
        "id": "2Ra3R1jxSaZE",
        "outputId": "003ae57d-9a08-4fb4-f72a-b82c3a5ac1c0",
        "colab": {
          "base_uri": "https://localhost:8080/"
        }
      },
      "execution_count": 45,
      "outputs": [
        {
          "output_type": "execute_result",
          "data": {
            "text/plain": [
              "tensor(91)"
            ]
          },
          "metadata": {},
          "execution_count": 45
        }
      ]
    },
    {
      "cell_type": "markdown",
      "source": [
        "### Reshaping, stacking, squeezing, and unsqueezing\n",
        "* Reshaping  - reshape a a defined tensor to a defined shape\n",
        "* View - Return the view of an input tensor of the certain shape but the keep the same in the memory as the orignal tensor\n",
        "* Stacking - combine multiple tensor on top of each other (vstack)\n",
        "* Squeeze - removes all '1' dimension from the tensor.\n",
        "* Unsqueeze - add all '1' dimension to the target tensor\n",
        "* Permute - Return the view of the input with dimension permuted (swaped) in a certain way."
      ],
      "metadata": {
        "id": "qUUl4SEWmKES"
      }
    },
    {
      "cell_type": "code",
      "source": [
        "# Create a tensor\n",
        "x = torch.arange(1. , 10.)\n",
        "x, x.shape"
      ],
      "metadata": {
        "colab": {
          "base_uri": "https://localhost:8080/"
        },
        "id": "b1I1AUKWmXKH",
        "outputId": "25e28b9e-428c-468d-d03b-9fb8eb675102"
      },
      "execution_count": 46,
      "outputs": [
        {
          "output_type": "execute_result",
          "data": {
            "text/plain": [
              "(tensor([1., 2., 3., 4., 5., 6., 7., 8., 9.]), torch.Size([9]))"
            ]
          },
          "metadata": {},
          "execution_count": 46
        }
      ]
    },
    {
      "cell_type": "code",
      "source": [
        "# Add an extra dimenshion\n",
        "x_reshaped = x.reshape(1, 9)\n",
        "x_reshaped, x_reshaped.shape"
      ],
      "metadata": {
        "colab": {
          "base_uri": "https://localhost:8080/"
        },
        "id": "aHevNXzGoyX2",
        "outputId": "1a105304-8bff-43dc-dcd4-0ceaae48798b"
      },
      "execution_count": 47,
      "outputs": [
        {
          "output_type": "execute_result",
          "data": {
            "text/plain": [
              "(tensor([[1., 2., 3., 4., 5., 6., 7., 8., 9.]]), torch.Size([1, 9]))"
            ]
          },
          "metadata": {},
          "execution_count": 47
        }
      ]
    },
    {
      "cell_type": "code",
      "source": [
        "# Change the view\n",
        "z = x.view(1, 9)\n",
        "z, z.shape"
      ],
      "metadata": {
        "colab": {
          "base_uri": "https://localhost:8080/"
        },
        "id": "h9QnTkw9qHuK",
        "outputId": "4eb3e7da-c4e4-4367-82fc-cc8dc3d0fdb7"
      },
      "execution_count": 48,
      "outputs": [
        {
          "output_type": "execute_result",
          "data": {
            "text/plain": [
              "(tensor([[1., 2., 3., 4., 5., 6., 7., 8., 9.]]), torch.Size([1, 9]))"
            ]
          },
          "metadata": {},
          "execution_count": 48
        }
      ]
    },
    {
      "cell_type": "code",
      "source": [
        "# Changing z changes x (becase view of tensor shares the same memory as the orignal tensor shares)\n",
        "z[:, 0] = 5\n",
        "x, z"
      ],
      "metadata": {
        "colab": {
          "base_uri": "https://localhost:8080/"
        },
        "id": "ZIiXSdF2qi-W",
        "outputId": "740c1a2b-bc5f-4760-86c1-15fcdec42097"
      },
      "execution_count": 49,
      "outputs": [
        {
          "output_type": "execute_result",
          "data": {
            "text/plain": [
              "(tensor([5., 2., 3., 4., 5., 6., 7., 8., 9.]),\n",
              " tensor([[5., 2., 3., 4., 5., 6., 7., 8., 9.]]))"
            ]
          },
          "metadata": {},
          "execution_count": 49
        }
      ]
    },
    {
      "cell_type": "code",
      "source": [
        "x_stacked = torch.stack([x, x, x, x], dim = 0)\n",
        "x_stacked"
      ],
      "metadata": {
        "colab": {
          "base_uri": "https://localhost:8080/"
        },
        "id": "G1kXjQv2rOtx",
        "outputId": "22f947bf-5f17-4cbe-b0f5-d3a5b648aeba"
      },
      "execution_count": 50,
      "outputs": [
        {
          "output_type": "execute_result",
          "data": {
            "text/plain": [
              "tensor([[5., 2., 3., 4., 5., 6., 7., 8., 9.],\n",
              "        [5., 2., 3., 4., 5., 6., 7., 8., 9.],\n",
              "        [5., 2., 3., 4., 5., 6., 7., 8., 9.],\n",
              "        [5., 2., 3., 4., 5., 6., 7., 8., 9.]])"
            ]
          },
          "metadata": {},
          "execution_count": 50
        }
      ]
    },
    {
      "cell_type": "code",
      "source": [
        "# torch.squeeze() - removes all single dimension form the targeted tensor\n",
        "x_reshaped.squeeze()"
      ],
      "metadata": {
        "colab": {
          "base_uri": "https://localhost:8080/"
        },
        "id": "o3miAYECsQwe",
        "outputId": "9a8abcaf-286a-4526-9556-965d1aff0ad8"
      },
      "execution_count": 51,
      "outputs": [
        {
          "output_type": "execute_result",
          "data": {
            "text/plain": [
              "tensor([5., 2., 3., 4., 5., 6., 7., 8., 9.])"
            ]
          },
          "metadata": {},
          "execution_count": 51
        }
      ]
    },
    {
      "cell_type": "code",
      "source": [
        "# torch.unsqueeze() - add a single dimension in the targeted tensor at a specific dim (dimension)\n",
        "print(f\"Previous tensor: {x_reshaped}\")\n",
        "print(f\"Previous shape: {x_reshaped.shape}\")\n",
        "\n",
        "# add an extra dimension with unsqueeze\n",
        "x_squeezed = x_reshaped.squeeze()\n",
        "x_unsqueezed = x_squeezed.unsqueeze(dim = 0)\n",
        "print(f\"\\nNew tensor: {x_unsqueezed}\")\n",
        "print(f\"New shape: {x_unsqueezed.shape}\")"
      ],
      "metadata": {
        "id": "WLh8EiUyusqJ",
        "colab": {
          "base_uri": "https://localhost:8080/"
        },
        "outputId": "f34b4e85-eefd-40b6-9422-e80bc3b997dd"
      },
      "execution_count": 52,
      "outputs": [
        {
          "output_type": "stream",
          "name": "stdout",
          "text": [
            "Previous tensor: tensor([[5., 2., 3., 4., 5., 6., 7., 8., 9.]])\n",
            "Previous shape: torch.Size([1, 9])\n",
            "\n",
            "New tensor: tensor([[5., 2., 3., 4., 5., 6., 7., 8., 9.]])\n",
            "New shape: torch.Size([1, 9])\n"
          ]
        }
      ]
    },
    {
      "cell_type": "code",
      "source": [
        "# torch.permute - rearrange the dimension of a targeted tensor in a specified order\n",
        "x_orignal = torch.rand(224, 224, 3) # hight, width and color_channels\n",
        "\n",
        "# Permute the orignal tenosor to rearrange the axis(or dimension) order\n",
        "x_permuted = x_orignal.permute(2, 0, 1) # shifts axis 0->1, 1->2, 2->0\n",
        "\n",
        "print(f\"Previous shape: {x_orignal.shape}\")\n",
        "print(f\"New shape: {x_permuted.shape}\")"
      ],
      "metadata": {
        "colab": {
          "base_uri": "https://localhost:8080/"
        },
        "id": "9YL6ReqVw492",
        "outputId": "2bfb776a-a8fc-4989-8500-29fd1110ca17"
      },
      "execution_count": 53,
      "outputs": [
        {
          "output_type": "stream",
          "name": "stdout",
          "text": [
            "Previous shape: torch.Size([224, 224, 3])\n",
            "New shape: torch.Size([3, 224, 224])\n"
          ]
        }
      ]
    },
    {
      "cell_type": "markdown",
      "source": [
        "### Indexing (Selecting data from tensors)\n",
        "Indexing with pytorch is similar to NumPy"
      ],
      "metadata": {
        "id": "eTOz-kJW8n0c"
      }
    },
    {
      "cell_type": "code",
      "source": [
        "# Create a tensor\n",
        "x = torch.arange(1, 10).reshape(1, 3, 3)\n",
        "x, x.shape"
      ],
      "metadata": {
        "id": "5RR6xzdl89SN",
        "colab": {
          "base_uri": "https://localhost:8080/"
        },
        "outputId": "0e0b17ef-e261-462a-fda4-c30a8579b0ec"
      },
      "execution_count": 54,
      "outputs": [
        {
          "output_type": "execute_result",
          "data": {
            "text/plain": [
              "(tensor([[[1, 2, 3],\n",
              "          [4, 5, 6],\n",
              "          [7, 8, 9]]]),\n",
              " torch.Size([1, 3, 3]))"
            ]
          },
          "metadata": {},
          "execution_count": 54
        }
      ]
    },
    {
      "cell_type": "code",
      "source": [
        "# Let's index on our new tensor\n",
        "x[0]"
      ],
      "metadata": {
        "colab": {
          "base_uri": "https://localhost:8080/"
        },
        "id": "VqIPlO3VKNXL",
        "outputId": "1f450fff-fb92-48bc-e9b9-59ae0862fdfa"
      },
      "execution_count": 55,
      "outputs": [
        {
          "output_type": "execute_result",
          "data": {
            "text/plain": [
              "tensor([[1, 2, 3],\n",
              "        [4, 5, 6],\n",
              "        [7, 8, 9]])"
            ]
          },
          "metadata": {},
          "execution_count": 55
        }
      ]
    },
    {
      "cell_type": "code",
      "source": [
        "# Let's index on our middle bracket (dim=1)\n",
        "x[0, 0]"
      ],
      "metadata": {
        "colab": {
          "base_uri": "https://localhost:8080/"
        },
        "id": "iTcFIU3fKYD0",
        "outputId": "9eb2fbb7-bddb-4788-cbb6-0759a8d63dc1"
      },
      "execution_count": 56,
      "outputs": [
        {
          "output_type": "execute_result",
          "data": {
            "text/plain": [
              "tensor([1, 2, 3])"
            ]
          },
          "metadata": {},
          "execution_count": 56
        }
      ]
    },
    {
      "cell_type": "code",
      "source": [
        "#Let's index on the most inner bracket (dim 2)\n",
        "x[0][1][2]"
      ],
      "metadata": {
        "colab": {
          "base_uri": "https://localhost:8080/"
        },
        "id": "HdXFn6HBLFgw",
        "outputId": "9543d189-ca4d-4ce3-a033-7b14c69ab6a1"
      },
      "execution_count": 57,
      "outputs": [
        {
          "output_type": "execute_result",
          "data": {
            "text/plain": [
              "tensor(6)"
            ]
          },
          "metadata": {},
          "execution_count": 57
        }
      ]
    },
    {
      "cell_type": "code",
      "source": [
        "#You can also you \":\" to select \"all\" of the targeted tensor\n",
        "x[:, 0]"
      ],
      "metadata": {
        "colab": {
          "base_uri": "https://localhost:8080/"
        },
        "id": "yWaNrrKtMyti",
        "outputId": "8798510e-f65d-4aae-9446-d26d2b950c07"
      },
      "execution_count": 58,
      "outputs": [
        {
          "output_type": "execute_result",
          "data": {
            "text/plain": [
              "tensor([[1, 2, 3]])"
            ]
          },
          "metadata": {},
          "execution_count": 58
        }
      ]
    },
    {
      "cell_type": "code",
      "source": [
        "#get all values of 0th ang 1st dimension but index 1 of 2nd dimension\n",
        "x[:, :, 2]"
      ],
      "metadata": {
        "colab": {
          "base_uri": "https://localhost:8080/"
        },
        "id": "Hc8g4G6CNCG5",
        "outputId": "5f8c26a0-0dce-4345-e20b-3d58b362c2e5"
      },
      "execution_count": 59,
      "outputs": [
        {
          "output_type": "execute_result",
          "data": {
            "text/plain": [
              "tensor([[3, 6, 9]])"
            ]
          },
          "metadata": {},
          "execution_count": 59
        }
      ]
    },
    {
      "cell_type": "markdown",
      "source": [
        "### Pytorch & NumPy\n",
        "Numpy is poppular scientific numerical computing library. And because of this Pytorch has functionality to interact with it.\n",
        "* Data in NumPy, want in Pytorch tensor -> 'torch.from_numpy(ndarray)'\n",
        "* Pytorch tensor-> Numpy -> 'torch.Tensor.numpy()'"
      ],
      "metadata": {
        "id": "rTkTpVIRQveD"
      }
    },
    {
      "cell_type": "code",
      "source": [
        "# NumPy array to tensor\n",
        "array = np.arange(1.0, 8.0)\n",
        "tensor = torch.from_numpy(array) # When converting from numpyt to pytorch, Pytorch will reflect default numpy data type of float64 unless specified otherwise\n",
        "array, tensor"
      ],
      "metadata": {
        "colab": {
          "base_uri": "https://localhost:8080/"
        },
        "id": "iDnKLQv1QmsD",
        "outputId": "2d40ec15-57ec-400e-e1da-e9c413418433"
      },
      "execution_count": 60,
      "outputs": [
        {
          "output_type": "execute_result",
          "data": {
            "text/plain": [
              "(array([1., 2., 3., 4., 5., 6., 7.]),\n",
              " tensor([1., 2., 3., 4., 5., 6., 7.], dtype=torch.float64))"
            ]
          },
          "metadata": {},
          "execution_count": 60
        }
      ]
    },
    {
      "cell_type": "code",
      "source": [
        "# Change the value of array\n",
        "array = array+1\n",
        "array, tensor"
      ],
      "metadata": {
        "colab": {
          "base_uri": "https://localhost:8080/"
        },
        "id": "n9Hf--UkWbzu",
        "outputId": "0810a427-ea73-43dc-9cb7-90f145c043ca"
      },
      "execution_count": 61,
      "outputs": [
        {
          "output_type": "execute_result",
          "data": {
            "text/plain": [
              "(array([2., 3., 4., 5., 6., 7., 8.]),\n",
              " tensor([1., 2., 3., 4., 5., 6., 7.], dtype=torch.float64))"
            ]
          },
          "metadata": {},
          "execution_count": 61
        }
      ]
    },
    {
      "cell_type": "code",
      "source": [
        "tensor = torch.ones(7)\n",
        "numpy_tensor = tensor.numpy()\n",
        "tensor, numpy_tensor\n"
      ],
      "metadata": {
        "colab": {
          "base_uri": "https://localhost:8080/"
        },
        "id": "Vpz3X9TfYiDK",
        "outputId": "d69781f2-d06b-4f2e-d614-f3d96a3b35f6"
      },
      "execution_count": 62,
      "outputs": [
        {
          "output_type": "execute_result",
          "data": {
            "text/plain": [
              "(tensor([1., 1., 1., 1., 1., 1., 1.]),\n",
              " array([1., 1., 1., 1., 1., 1., 1.], dtype=float32))"
            ]
          },
          "metadata": {},
          "execution_count": 62
        }
      ]
    },
    {
      "cell_type": "markdown",
      "source": [
        "### Reproducbility(trying to take random out of random)\n",
        "In short how nerual networks work:\n",
        "start with random numbers -> tensor operations -> update random numbpers to make them better representation of the data -> again -> again -> again......\n",
        "\n",
        "To reduce the randomness in neural networks and Pytorch comes the concep to a **Random Seed**\n",
        "\n",
        "Essentially what the random seed does is \"flavor\" the randomness.\n"
      ],
      "metadata": {
        "id": "HIY4mUNEZdMJ"
      }
    },
    {
      "cell_type": "code",
      "source": [
        "#Create 2 random tensors\n",
        "random_tensor_A = torch.rand(3, 4)\n",
        "random_tensor_B = torch.rand(3, 4)\n",
        "\n",
        "print(random_tensor_A)\n",
        "print(random_tensor_B)\n",
        "print(random_tensor_A == random_tensor_B)"
      ],
      "metadata": {
        "colab": {
          "base_uri": "https://localhost:8080/"
        },
        "id": "DPK4Ez7HZb-E",
        "outputId": "e22085e9-bd6a-4bd2-b700-aa973a5fdf44"
      },
      "execution_count": 63,
      "outputs": [
        {
          "output_type": "stream",
          "name": "stdout",
          "text": [
            "tensor([[0.5079, 0.4693, 0.5024, 0.6196],\n",
            "        [0.6802, 0.0070, 0.7766, 0.5772],\n",
            "        [0.3572, 0.8186, 0.0392, 0.2166]])\n",
            "tensor([[0.5278, 0.8600, 0.5363, 0.0249],\n",
            "        [0.1477, 0.5738, 0.5431, 0.6731],\n",
            "        [0.1691, 0.9343, 0.0551, 0.8363]])\n",
            "tensor([[False, False, False, False],\n",
            "        [False, False, False, False],\n",
            "        [False, False, False, False]])\n"
          ]
        }
      ]
    },
    {
      "cell_type": "code",
      "source": [
        "# Let's make some rendom tensors but reproducible seeds\n",
        "# Set the random seed\n",
        "Random_Seed = 42\n",
        "torch.manual_seed(Random_Seed)\n",
        "random_tensor_C = torch.rand(3, 4)\n",
        "torch.manual_seed(Random_Seed)\n",
        "random_tensor_D = torch.rand(3, 4)\n",
        "\n",
        "print(random_tensor_C)\n",
        "print(random_tensor_D)\n",
        "print(random_tensor_C == random_tensor_D)"
      ],
      "metadata": {
        "colab": {
          "base_uri": "https://localhost:8080/"
        },
        "id": "DIoJI5Adb9XX",
        "outputId": "e12784ca-e0a4-4fa0-9c4e-9da1e671b5ba"
      },
      "execution_count": 64,
      "outputs": [
        {
          "output_type": "stream",
          "name": "stdout",
          "text": [
            "tensor([[0.8823, 0.9150, 0.3829, 0.9593],\n",
            "        [0.3904, 0.6009, 0.2566, 0.7936],\n",
            "        [0.9408, 0.1332, 0.9346, 0.5936]])\n",
            "tensor([[0.8823, 0.9150, 0.3829, 0.9593],\n",
            "        [0.3904, 0.6009, 0.2566, 0.7936],\n",
            "        [0.9408, 0.1332, 0.9346, 0.5936]])\n",
            "tensor([[True, True, True, True],\n",
            "        [True, True, True, True],\n",
            "        [True, True, True, True]])\n"
          ]
        }
      ]
    },
    {
      "cell_type": "markdown",
      "source": [
        "### Running Pytorch objects and tensors using GPU's (and making faster computations)\n",
        "\n",
        "GPU = faster computation on numbers\n",
        "\n",
        "#Gettinga  GPU\n",
        "* Easiest = Use google colab for a free GPU\n",
        "* Use your own GPU. It requires a bit setup and requires an investment of purchasing a GPU there's a lot of options....\n",
        "* Use cloud computing- GCP, AWS, Azure, these services allow you to rent computers on the cloud and access them\n",
        "\n",
        "* For 2, 3 Pytorch + GPU drivers (CUDA) takes a little bit of setting up, to do this refers to pytorch setup documentation"
      ],
      "metadata": {
        "id": "ZRg_FhV2wRUy"
      }
    },
    {
      "cell_type": "markdown",
      "source": [
        "### Check for GPU access on Pytorch"
      ],
      "metadata": {
        "id": "gsIHTUiOzyYo"
      }
    },
    {
      "cell_type": "code",
      "source": [
        "#Check for GPU access in Pytoch\n",
        "torch.cuda.is_available()"
      ],
      "metadata": {
        "colab": {
          "base_uri": "https://localhost:8080/"
        },
        "id": "WAc7C0YDxGJb",
        "outputId": "6fc0da72-93e7-4de8-c49f-dae39b4b4f6c"
      },
      "execution_count": 71,
      "outputs": [
        {
          "output_type": "execute_result",
          "data": {
            "text/plain": [
              "True"
            ]
          },
          "metadata": {},
          "execution_count": 71
        }
      ]
    },
    {
      "cell_type": "code",
      "source": [
        "device = \"cuda\" if torch.cuda.is_available() else \"cpu\"\n",
        "device"
      ],
      "metadata": {
        "colab": {
          "base_uri": "https://localhost:8080/",
          "height": 36
        },
        "id": "BOn-XFC1J7uz",
        "outputId": "c4cc90f7-ed7b-4b06-ba81-5732f2c96016"
      },
      "execution_count": 72,
      "outputs": [
        {
          "output_type": "execute_result",
          "data": {
            "text/plain": [
              "'cuda'"
            ],
            "application/vnd.google.colaboratory.intrinsic+json": {
              "type": "string"
            }
          },
          "metadata": {},
          "execution_count": 72
        }
      ]
    },
    {
      "cell_type": "code",
      "source": [
        "# count the gpu's using Pytorch\n",
        "torch.cuda.device_count()"
      ],
      "metadata": {
        "id": "xY4jovi-z4og",
        "colab": {
          "base_uri": "https://localhost:8080/"
        },
        "outputId": "cc1552f8-023a-4549-ad95-75403274fcdb"
      },
      "execution_count": 66,
      "outputs": [
        {
          "output_type": "execute_result",
          "data": {
            "text/plain": [
              "1"
            ]
          },
          "metadata": {},
          "execution_count": 66
        }
      ]
    },
    {
      "cell_type": "markdown",
      "source": [
        "### Putting Tensor (and models) on the GPU\n",
        "Reason to prefer GPU is fast computation"
      ],
      "metadata": {
        "id": "w4kkZ4HuHXaZ"
      }
    },
    {
      "cell_type": "code",
      "source": [
        "#Creating a tensor (default on cpu)\n",
        "tensor = torch.tensor([1, 2, 3])\n",
        "\n",
        "#Tensor of cpu\n",
        "print(tensor, tensor.device)"
      ],
      "metadata": {
        "colab": {
          "base_uri": "https://localhost:8080/"
        },
        "id": "LpWdJVKEGDrB",
        "outputId": "58cd170d-f6c3-4d5e-fc93-d71f488f94b2"
      },
      "execution_count": 73,
      "outputs": [
        {
          "output_type": "stream",
          "name": "stdout",
          "text": [
            "tensor([1, 2, 3]) cpu\n"
          ]
        }
      ]
    },
    {
      "cell_type": "code",
      "source": [
        " tensor_on_gpu = tensor.to(device)\n",
        " tensor_on_gpu"
      ],
      "metadata": {
        "colab": {
          "base_uri": "https://localhost:8080/"
        },
        "id": "Li3guHLYJXA4",
        "outputId": "0f48bc1e-98fa-4ac7-deb7-af43dcc1b490"
      },
      "execution_count": 74,
      "outputs": [
        {
          "output_type": "execute_result",
          "data": {
            "text/plain": [
              "tensor([1, 2, 3], device='cuda:0')"
            ]
          },
          "metadata": {},
          "execution_count": 74
        }
      ]
    },
    {
      "cell_type": "markdown",
      "source": [
        "### Moving tensor back to cpu"
      ],
      "metadata": {
        "id": "wwGXwaIYLGUS"
      }
    },
    {
      "cell_type": "code",
      "source": [
        "cpu_device = \"cpu\" if not torch.cuda.is_available() else \"cuda\""
      ],
      "metadata": {
        "id": "HvuL9T-FLKpG"
      },
      "execution_count": 78,
      "outputs": []
    },
    {
      "cell_type": "code",
      "source": [
        "tensor_on_gpu = tensor.to(cpu_device)\n",
        "tensor_on_gpu"
      ],
      "metadata": {
        "colab": {
          "base_uri": "https://localhost:8080/"
        },
        "id": "c5RFrOk_Lhi_",
        "outputId": "a6d2e2cd-a472-4085-daeb-9fc35f5d3522"
      },
      "execution_count": 79,
      "outputs": [
        {
          "output_type": "execute_result",
          "data": {
            "text/plain": [
              "tensor([1, 2, 3], device='cuda:0')"
            ]
          },
          "metadata": {},
          "execution_count": 79
        }
      ]
    }
  ]
}